{
 "cells": [
  {
   "cell_type": "code",
   "execution_count": 49,
   "metadata": {},
   "outputs": [],
   "source": [
    "from datasets import load_dataset\n",
    "import spacy\n",
    "import pandas as pd\n",
    "import matplotlib.pyplot as plt\n",
    "from spacy import displacy"
   ]
  },
  {
   "cell_type": "markdown",
   "metadata": {},
   "source": [
    "##### Take 1 thousand random passages from the FIQA-PL corpus."
   ]
  },
  {
   "cell_type": "code",
   "execution_count": 2,
   "metadata": {},
   "outputs": [],
   "source": [
    "seed = 42"
   ]
  },
  {
   "cell_type": "code",
   "execution_count": 12,
   "metadata": {},
   "outputs": [],
   "source": [
    "ds = load_dataset(\"clarin-knext/fiqa-pl\", \"corpus\")\n",
    "df = pd.DataFrame(ds[\"corpus\"])[\"text\"]"
   ]
  },
  {
   "cell_type": "code",
   "execution_count": 15,
   "metadata": {},
   "outputs": [
    {
     "data": {
      "text/plain": [
       "53007    To samo tutaj... Żadna sieć fast foodów nie ma...\n",
       "26164    Dowiedz się, dlaczego działa tak, jak jest, za...\n",
       "56991    Będziesz musiał płacić podatki w Wielkiej Bryt...\n",
       "36689    > te dwa wydają się być ze sobą powiązane, Tak...\n",
       "51427    Przeczytałem wiele relacji na ten temat i owsz...\n",
       "Name: text, dtype: object"
      ]
     },
     "execution_count": 15,
     "metadata": {},
     "output_type": "execute_result"
    }
   ],
   "source": [
    "df = df.sample(1000, random_state=seed)\n",
    "df.head()"
   ]
  },
  {
   "cell_type": "code",
   "execution_count": 16,
   "metadata": {},
   "outputs": [],
   "source": [
    "fulltext = \" \".join(df)"
   ]
  },
  {
   "cell_type": "markdown",
   "metadata": {},
   "source": [
    "##### Use the lemmatized and sentence split documents\n",
    "identify the expressions that consist of consecutive words starting with a capital letter (you will have to look at the inflected form of the word to check its capitalization) that do not occupy the first position in a sentence. E.g. the sentenc"
   ]
  },
  {
   "cell_type": "code",
   "execution_count": 25,
   "metadata": {},
   "outputs": [],
   "source": [
    "nlp = spacy.load(\"pl_core_news_sm\")\n",
    "\n",
    "\n",
    "def preprocess(text):\n",
    "    doc = nlp(text)\n",
    "    return \" \".join([\" \".join([token.lemma_ for token in sent]) for sent in doc.sents])"
   ]
  },
  {
   "cell_type": "code",
   "execution_count": null,
   "metadata": {},
   "outputs": [],
   "source": [
    "def identify_lemmatized_entities(text):\n",
    "    doc = nlp(text)\n",
    "    expressions = []\n",
    "\n",
    "    current_expression = \"\"\n",
    "    for sent in doc.sents:\n",
    "        for i, token in enumerate(sent):\n",
    "            if token.text.istitle() and i > 0 and len(token) > 1:\n",
    "                if current_expression:\n",
    "                    current_expression += \" \" + token.lemma_\n",
    "                else:\n",
    "                    current_expression = token.lemma_\n",
    "            elif current_expression:\n",
    "                lemmatized_tokens = [t.lemma_ for t in nlp(current_expression)]\n",
    "                if all(lemma.istitle() for lemma in lemmatized_tokens):\n",
    "                    expressions.append(current_expression)\n",
    "                current_expression = \"\"\n",
    "\n",
    "    return expressions"
   ]
  },
  {
   "cell_type": "code",
   "execution_count": 20,
   "metadata": {},
   "outputs": [
    {
     "name": "stdout",
     "output_type": "stream",
     "text": [
      "Identified Lemmatized Expressions: ['Kraków', 'Polska', 'Stany Zjednoczone']\n"
     ]
    }
   ],
   "source": [
    "# Przykład użycia\n",
    "sample_text = \"Wczoraj w Krakowie miało miejsce spotkanie prezydentów Polski i Stanów Zjednoczonych.\"\n",
    "result = identify_lemmatized_entities(sample_text)\n",
    "print(f\"Identified Lemmatized Expressions: {result}\")"
   ]
  },
  {
   "cell_type": "code",
   "execution_count": 29,
   "metadata": {},
   "outputs": [
    {
     "data": {
      "text/html": [
       "<div>\n",
       "<style scoped>\n",
       "    .dataframe tbody tr th:only-of-type {\n",
       "        vertical-align: middle;\n",
       "    }\n",
       "\n",
       "    .dataframe tbody tr th {\n",
       "        vertical-align: top;\n",
       "    }\n",
       "\n",
       "    .dataframe thead th {\n",
       "        text-align: right;\n",
       "    }\n",
       "</style>\n",
       "<table border=\"1\" class=\"dataframe\">\n",
       "  <thead>\n",
       "    <tr style=\"text-align: right;\">\n",
       "      <th></th>\n",
       "      <th>expression</th>\n",
       "    </tr>\n",
       "  </thead>\n",
       "  <tbody>\n",
       "    <tr>\n",
       "      <th>0</th>\n",
       "      <td>Angelo</td>\n",
       "    </tr>\n",
       "    <tr>\n",
       "      <th>1</th>\n",
       "      <td>Angelo_Mozilo</td>\n",
       "    </tr>\n",
       "    <tr>\n",
       "      <th>2</th>\n",
       "      <td>Coolidge</td>\n",
       "    </tr>\n",
       "    <tr>\n",
       "      <th>3</th>\n",
       "      <td>New Deal</td>\n",
       "    </tr>\n",
       "    <tr>\n",
       "      <th>4</th>\n",
       "      <td>Deal</td>\n",
       "    </tr>\n",
       "  </tbody>\n",
       "</table>\n",
       "</div>"
      ],
      "text/plain": [
       "      expression\n",
       "0         Angelo\n",
       "1  Angelo_Mozilo\n",
       "2       Coolidge\n",
       "3       New Deal\n",
       "4           Deal"
      ]
     },
     "execution_count": 29,
     "metadata": {},
     "output_type": "execute_result"
    }
   ],
   "source": [
    "lemmatized_and_sentence_split_text = preprocess(fulltext)\n",
    "identified_expressions = pd.DataFrame(\n",
    "    identify_lemmatized_entities(lemmatized_and_sentence_split_text),\n",
    "    columns=[\"expression\"],\n",
    ")\n",
    "identified_expressions.head()"
   ]
  },
  {
   "cell_type": "markdown",
   "metadata": {},
   "source": [
    "##### Compute the frequency of each identified expression and print 50 results with the largest number of occurrences.\n"
   ]
  },
  {
   "cell_type": "code",
   "execution_count": 38,
   "metadata": {},
   "outputs": [
    {
     "data": {
      "text/plain": [
       "expression\n",
       "Ciebie               39\n",
       "Roth                 30\n",
       "Stany Zjednoczone    29\n",
       "Internet             22\n",
       "Amazon               19\n",
       "Indie                19\n",
       "S&P                  18\n",
       "Google               16\n",
       "Apple                16\n",
       "Twoją                14\n",
       "Ameryka              13\n",
       "Twoich               13\n",
       "Vanguard             12\n",
       "Twojej               11\n",
       "Europa               10\n",
       "Money                 9\n",
       "Iran                  9\n",
       "Jork                  8\n",
       "Niemcy                8\n",
       "Rosja                 8\n",
       "Tesla                 8\n",
       "Buffett               8\n",
       "Izrael                8\n",
       "Fed                   7\n",
       "Najlepsze             7\n",
       "Netflix               7\n",
       "Microsoft             7\n",
       "Lucasfilm             6\n",
       "Trump                 6\n",
       "Facebook              6\n",
       "Hathaway              6\n",
       "Rotha                 5\n",
       "Vốn                   5\n",
       "Windows               5\n",
       "Vis                   5\n",
       "Hiszpania             5\n",
       "Amerykanin            5\n",
       "Amazona               5\n",
       "Johnson Controls      4\n",
       "Harvard               4\n",
       "Corp                  4\n",
       "Brytania              4\n",
       "Prepaid Legal         4\n",
       "Tobie                 4\n",
       "Bob                   4\n",
       "Minsky                4\n",
       "Safeway               4\n",
       "Jimmy                 4\n",
       "Costco                4\n",
       "Stany                 4\n",
       "Name: count, dtype: int64"
      ]
     },
     "execution_count": 38,
     "metadata": {},
     "output_type": "execute_result"
    }
   ],
   "source": [
    "identified_expressions[\"expression\"].value_counts().head(50)"
   ]
  },
  {
   "cell_type": "markdown",
   "metadata": {},
   "source": [
    "##### Apply the NER from SpaCy to identify the named entities in the same set of documents."
   ]
  },
  {
   "cell_type": "code",
   "execution_count": null,
   "metadata": {},
   "outputs": [],
   "source": [
    "ner_res = nlp(fulltext)\n",
    "ners = [(e.text, e.label_) for e in ner_res.ents]"
   ]
  },
  {
   "cell_type": "code",
   "execution_count": null,
   "metadata": {},
   "outputs": [],
   "source": [
    "df_ner = pd.DataFrame(ners, columns=[\"text\", \"label\"])"
   ]
  },
  {
   "cell_type": "code",
   "execution_count": null,
   "metadata": {},
   "outputs": [
    {
     "data": {
      "text/plain": [
       "text\n",
       "USA                      120\n",
       "IRA                       35\n",
       "Wielkiej Brytanii         32\n",
       "ETF                       27\n",
       "Amazon                    17\n",
       "Apple                     16\n",
       "Stanach Zjednoczonych     15\n",
       "S&P                       14\n",
       "amerykańskich             14\n",
       "Amerykanów                14\n",
       "Google                    14\n",
       "IRS                       13\n",
       "Roth                      12\n",
       "Indiach                   12\n",
       "Roth IRA                  11\n",
       "Stany Zjednoczone         11\n",
       "Whole Foods               11\n",
       "MBA                       10\n",
       "UE                        10\n",
       "Kanadzie                   9\n",
       "Ameryka                    9\n",
       "CPA                        9\n",
       "SEC                        9\n",
       "amerykańskie               9\n",
       "amerykańskiego             9\n",
       "&                          9\n",
       "HSA                        8\n",
       "Chiny                      8\n",
       "Walmart                    8\n",
       "gdybyś                     7\n",
       "Amerykanie                 7\n",
       "OP                         7\n",
       "Europie                    7\n",
       "Microsoft                  7\n",
       "Netflix                    7\n",
       "amerykański                7\n",
       "Mint                       7\n",
       "GM                         7\n",
       "10.                        7\n",
       "1099                       7\n",
       "Vanguard                   6\n",
       "Kanady                     6\n",
       "2015 r.                    6\n",
       "2008 roku                  6\n",
       "Stanów Zjednoczonych       6\n",
       "Buffetta                   6\n",
       "2016                       6\n",
       "2014 r.                    6\n",
       "Izrael                     6\n",
       "ACA                        6\n",
       "Name: count, dtype: int64"
      ]
     },
     "execution_count": 37,
     "metadata": {},
     "output_type": "execute_result"
    }
   ],
   "source": [
    "df_ner[\"text\"].value_counts().head(50)"
   ]
  },
  {
   "cell_type": "markdown",
   "metadata": {},
   "source": [
    "#### Plot the frequency (histogram) of the identified classes."
   ]
  },
  {
   "cell_type": "code",
   "execution_count": 40,
   "metadata": {},
   "outputs": [
    {
     "data": {
      "text/plain": [
       "label\n",
       "orgName      820\n",
       "placeName    702\n",
       "persName     653\n",
       "date         238\n",
       "geogName     115\n",
       "Name: count, dtype: int64"
      ]
     },
     "execution_count": 40,
     "metadata": {},
     "output_type": "execute_result"
    }
   ],
   "source": [
    "identified_classes = df_ner[\"label\"].value_counts().head()\n",
    "identified_classes"
   ]
  },
  {
   "cell_type": "code",
   "execution_count": 43,
   "metadata": {},
   "outputs": [
    {
     "data": {
      "image/png": "[encoded data removed]",
      "text/plain": [
       "<Figure size 1000x600 with 1 Axes>"
      ]
     },
     "metadata": {},
     "output_type": "display_data"
    }
   ],
   "source": [
    "plt.figure(figsize=(10, 6))\n",
    "identified_classes.plot(kind=\"bar\")\n",
    "plt.title(\"Top 5 Labels Count\")\n",
    "plt.xlabel(\"Labels\")\n",
    "plt.ylabel(\"Count\")\n",
    "plt.xticks(rotation=45)\n",
    "plt.show()"
   ]
  },
  {
   "cell_type": "markdown",
   "metadata": {},
   "source": [
    "#### Display 10 most frequent Named Entities for each identified type."
   ]
  },
  {
   "cell_type": "code",
   "execution_count": null,
   "metadata": {},
   "outputs": [
    {
     "name": "stdout",
     "output_type": "stream",
     "text": [
      "Top 10 names for label orgName:\n",
      "text\n",
      "IRA            35\n",
      "ETF            27\n",
      "Apple          15\n",
      "S&P            14\n",
      "IRS            13\n",
      "Whole Foods    11\n",
      "Roth IRA       11\n",
      "Google         10\n",
      "MBA            10\n",
      "UE             10\n",
      "Name: count, dtype: int64\n",
      "\n",
      "\n",
      "Top 10 names for label placeName:\n",
      "text\n",
      "USA                      120\n",
      "Wielkiej Brytanii         32\n",
      "Stanach Zjednoczonych     15\n",
      "Amerykanów                14\n",
      "amerykańskich             14\n",
      "Indiach                   12\n",
      "Stany Zjednoczone         10\n",
      "amerykańskiego             9\n",
      "amerykańskie               9\n",
      "Ameryka                    9\n",
      "Name: count, dtype: int64\n",
      "\n",
      "\n",
      "Top 10 names for label persName:\n",
      "text\n",
      "Amazon       17\n",
      "OP            7\n",
      "Netflix       7\n",
      "gdybyś        7\n",
      "Walmart       6\n",
      "Buffetta      6\n",
      "musiałbyś     5\n",
      "Gdybyś        5\n",
      "Rotha         5\n",
      "Buffett       4\n",
      "Name: count, dtype: int64\n",
      "\n",
      "\n",
      "Top 10 names for label date:\n",
      "text\n",
      "10.            7\n",
      "1099           7\n",
      "2008 roku      6\n",
      "2016           6\n",
      "2014 r.        6\n",
      "2008 r.        6\n",
      "2015 r.        6\n",
      "2012           5\n",
      "2012 roku      5\n",
      "15 kwietnia    5\n",
      "Name: count, dtype: int64\n",
      "\n",
      "\n",
      "Top 10 names for label geogName:\n",
      "text\n",
      "Europie              7\n",
      "Białym Domu          3\n",
      "Ameriprise           3\n",
      "Quicken              3\n",
      "Bliskim Wschodzie    3\n",
      "Edmunds              2\n",
      "Mint                 2\n",
      "europejskich         2\n",
      "Bliskiego Wschodu    2\n",
      "Afryka               2\n",
      "Name: count, dtype: int64\n",
      "\n",
      "\n"
     ]
    }
   ],
   "source": [
    "for label in identified_classes.index:\n",
    "    print(f\"Top 10 names for label {label}:\")\n",
    "    print(df_ner[df_ner[\"label\"] == label][\"text\"].value_counts().head(10))\n",
    "    print(\"\\n\")"
   ]
  },
  {
   "cell_type": "markdown",
   "metadata": {},
   "source": [
    "##### Display 50 most frequent Named Entities including their count and type."
   ]
  },
  {
   "cell_type": "code",
   "execution_count": 48,
   "metadata": {},
   "outputs": [
    {
     "data": {
      "text/html": [
       "<div>\n",
       "<style scoped>\n",
       "    .dataframe tbody tr th:only-of-type {\n",
       "        vertical-align: middle;\n",
       "    }\n",
       "\n",
       "    .dataframe tbody tr th {\n",
       "        vertical-align: top;\n",
       "    }\n",
       "\n",
       "    .dataframe thead th {\n",
       "        text-align: right;\n",
       "    }\n",
       "</style>\n",
       "<table border=\"1\" class=\"dataframe\">\n",
       "  <thead>\n",
       "    <tr style=\"text-align: right;\">\n",
       "      <th></th>\n",
       "      <th>text</th>\n",
       "      <th>label</th>\n",
       "      <th>count</th>\n",
       "    </tr>\n",
       "  </thead>\n",
       "  <tbody>\n",
       "    <tr>\n",
       "      <th>1218</th>\n",
       "      <td>USA</td>\n",
       "      <td>placeName</td>\n",
       "      <td>120</td>\n",
       "    </tr>\n",
       "    <tr>\n",
       "      <th>632</th>\n",
       "      <td>IRA</td>\n",
       "      <td>orgName</td>\n",
       "      <td>35</td>\n",
       "    </tr>\n",
       "    <tr>\n",
       "      <th>1276</th>\n",
       "      <td>Wielkiej Brytanii</td>\n",
       "      <td>placeName</td>\n",
       "      <td>32</td>\n",
       "    </tr>\n",
       "    <tr>\n",
       "      <th>424</th>\n",
       "      <td>ETF</td>\n",
       "      <td>orgName</td>\n",
       "      <td>27</td>\n",
       "    </tr>\n",
       "    <tr>\n",
       "      <th>158</th>\n",
       "      <td>Amazon</td>\n",
       "      <td>persName</td>\n",
       "      <td>17</td>\n",
       "    </tr>\n",
       "    <tr>\n",
       "      <th>1121</th>\n",
       "      <td>Stanach Zjednoczonych</td>\n",
       "      <td>placeName</td>\n",
       "      <td>15</td>\n",
       "    </tr>\n",
       "    <tr>\n",
       "      <th>191</th>\n",
       "      <td>Apple</td>\n",
       "      <td>orgName</td>\n",
       "      <td>15</td>\n",
       "    </tr>\n",
       "    <tr>\n",
       "      <th>172</th>\n",
       "      <td>Amerykanów</td>\n",
       "      <td>placeName</td>\n",
       "      <td>14</td>\n",
       "    </tr>\n",
       "    <tr>\n",
       "      <th>1046</th>\n",
       "      <td>S&amp;P</td>\n",
       "      <td>orgName</td>\n",
       "      <td>14</td>\n",
       "    </tr>\n",
       "    <tr>\n",
       "      <th>1345</th>\n",
       "      <td>amerykańskich</td>\n",
       "      <td>placeName</td>\n",
       "      <td>14</td>\n",
       "    </tr>\n",
       "    <tr>\n",
       "      <th>634</th>\n",
       "      <td>IRS</td>\n",
       "      <td>orgName</td>\n",
       "      <td>13</td>\n",
       "    </tr>\n",
       "    <tr>\n",
       "      <th>639</th>\n",
       "      <td>Indiach</td>\n",
       "      <td>placeName</td>\n",
       "      <td>12</td>\n",
       "    </tr>\n",
       "    <tr>\n",
       "      <th>1274</th>\n",
       "      <td>Whole Foods</td>\n",
       "      <td>orgName</td>\n",
       "      <td>11</td>\n",
       "    </tr>\n",
       "    <tr>\n",
       "      <th>1040</th>\n",
       "      <td>Roth IRA</td>\n",
       "      <td>orgName</td>\n",
       "      <td>11</td>\n",
       "    </tr>\n",
       "    <tr>\n",
       "      <th>565</th>\n",
       "      <td>Google</td>\n",
       "      <td>orgName</td>\n",
       "      <td>10</td>\n",
       "    </tr>\n",
       "    <tr>\n",
       "      <th>1211</th>\n",
       "      <td>UE</td>\n",
       "      <td>orgName</td>\n",
       "      <td>10</td>\n",
       "    </tr>\n",
       "    <tr>\n",
       "      <th>780</th>\n",
       "      <td>MBA</td>\n",
       "      <td>orgName</td>\n",
       "      <td>10</td>\n",
       "    </tr>\n",
       "    <tr>\n",
       "      <th>1124</th>\n",
       "      <td>Stany Zjednoczone</td>\n",
       "      <td>placeName</td>\n",
       "      <td>10</td>\n",
       "    </tr>\n",
       "    <tr>\n",
       "      <th>1347</th>\n",
       "      <td>amerykańskiego</td>\n",
       "      <td>placeName</td>\n",
       "      <td>9</td>\n",
       "    </tr>\n",
       "    <tr>\n",
       "      <th>714</th>\n",
       "      <td>Kanadzie</td>\n",
       "      <td>placeName</td>\n",
       "      <td>9</td>\n",
       "    </tr>\n",
       "    <tr>\n",
       "      <th>1055</th>\n",
       "      <td>SEC</td>\n",
       "      <td>orgName</td>\n",
       "      <td>9</td>\n",
       "    </tr>\n",
       "    <tr>\n",
       "      <th>169</th>\n",
       "      <td>Ameryka</td>\n",
       "      <td>placeName</td>\n",
       "      <td>9</td>\n",
       "    </tr>\n",
       "    <tr>\n",
       "      <th>3</th>\n",
       "      <td>&amp;</td>\n",
       "      <td>orgName</td>\n",
       "      <td>9</td>\n",
       "    </tr>\n",
       "    <tr>\n",
       "      <th>313</th>\n",
       "      <td>CPA</td>\n",
       "      <td>orgName</td>\n",
       "      <td>9</td>\n",
       "    </tr>\n",
       "    <tr>\n",
       "      <th>1346</th>\n",
       "      <td>amerykańskie</td>\n",
       "      <td>placeName</td>\n",
       "      <td>9</td>\n",
       "    </tr>\n",
       "    <tr>\n",
       "      <th>584</th>\n",
       "      <td>HSA</td>\n",
       "      <td>orgName</td>\n",
       "      <td>8</td>\n",
       "    </tr>\n",
       "    <tr>\n",
       "      <th>536</th>\n",
       "      <td>GM</td>\n",
       "      <td>orgName</td>\n",
       "      <td>7</td>\n",
       "    </tr>\n",
       "    <tr>\n",
       "      <th>1344</th>\n",
       "      <td>amerykański</td>\n",
       "      <td>placeName</td>\n",
       "      <td>7</td>\n",
       "    </tr>\n",
       "    <tr>\n",
       "      <th>815</th>\n",
       "      <td>Microsoft</td>\n",
       "      <td>orgName</td>\n",
       "      <td>7</td>\n",
       "    </tr>\n",
       "    <tr>\n",
       "      <th>1402</th>\n",
       "      <td>gdybyś</td>\n",
       "      <td>persName</td>\n",
       "      <td>7</td>\n",
       "    </tr>\n",
       "    <tr>\n",
       "      <th>912</th>\n",
       "      <td>OP</td>\n",
       "      <td>persName</td>\n",
       "      <td>7</td>\n",
       "    </tr>\n",
       "    <tr>\n",
       "      <th>455</th>\n",
       "      <td>Europie</td>\n",
       "      <td>geogName</td>\n",
       "      <td>7</td>\n",
       "    </tr>\n",
       "    <tr>\n",
       "      <th>170</th>\n",
       "      <td>Amerykanie</td>\n",
       "      <td>placeName</td>\n",
       "      <td>7</td>\n",
       "    </tr>\n",
       "    <tr>\n",
       "      <th>16</th>\n",
       "      <td>10.</td>\n",
       "      <td>date</td>\n",
       "      <td>7</td>\n",
       "    </tr>\n",
       "    <tr>\n",
       "      <th>1036</th>\n",
       "      <td>Roth</td>\n",
       "      <td>orgName</td>\n",
       "      <td>7</td>\n",
       "    </tr>\n",
       "    <tr>\n",
       "      <th>20</th>\n",
       "      <td>1099</td>\n",
       "      <td>date</td>\n",
       "      <td>7</td>\n",
       "    </tr>\n",
       "    <tr>\n",
       "      <th>877</th>\n",
       "      <td>Netflix</td>\n",
       "      <td>persName</td>\n",
       "      <td>7</td>\n",
       "    </tr>\n",
       "    <tr>\n",
       "      <th>64</th>\n",
       "      <td>2008 r.</td>\n",
       "      <td>date</td>\n",
       "      <td>6</td>\n",
       "    </tr>\n",
       "    <tr>\n",
       "      <th>340</th>\n",
       "      <td>Chiny</td>\n",
       "      <td>orgName</td>\n",
       "      <td>6</td>\n",
       "    </tr>\n",
       "    <tr>\n",
       "      <th>84</th>\n",
       "      <td>2015 r.</td>\n",
       "      <td>date</td>\n",
       "      <td>6</td>\n",
       "    </tr>\n",
       "    <tr>\n",
       "      <th>82</th>\n",
       "      <td>2014 r.</td>\n",
       "      <td>date</td>\n",
       "      <td>6</td>\n",
       "    </tr>\n",
       "    <tr>\n",
       "      <th>86</th>\n",
       "      <td>2016</td>\n",
       "      <td>date</td>\n",
       "      <td>6</td>\n",
       "    </tr>\n",
       "    <tr>\n",
       "      <th>65</th>\n",
       "      <td>2008 roku</td>\n",
       "      <td>date</td>\n",
       "      <td>6</td>\n",
       "    </tr>\n",
       "    <tr>\n",
       "      <th>115</th>\n",
       "      <td>ACA</td>\n",
       "      <td>orgName</td>\n",
       "      <td>6</td>\n",
       "    </tr>\n",
       "    <tr>\n",
       "      <th>712</th>\n",
       "      <td>Kanady</td>\n",
       "      <td>placeName</td>\n",
       "      <td>6</td>\n",
       "    </tr>\n",
       "    <tr>\n",
       "      <th>291</th>\n",
       "      <td>Buffetta</td>\n",
       "      <td>persName</td>\n",
       "      <td>6</td>\n",
       "    </tr>\n",
       "    <tr>\n",
       "      <th>1253</th>\n",
       "      <td>Walmart</td>\n",
       "      <td>persName</td>\n",
       "      <td>6</td>\n",
       "    </tr>\n",
       "    <tr>\n",
       "      <th>889</th>\n",
       "      <td>Niemczech</td>\n",
       "      <td>placeName</td>\n",
       "      <td>6</td>\n",
       "    </tr>\n",
       "    <tr>\n",
       "      <th>629</th>\n",
       "      <td>IMO</td>\n",
       "      <td>orgName</td>\n",
       "      <td>5</td>\n",
       "    </tr>\n",
       "    <tr>\n",
       "      <th>665</th>\n",
       "      <td>Izrael</td>\n",
       "      <td>placeName</td>\n",
       "      <td>5</td>\n",
       "    </tr>\n",
       "  </tbody>\n",
       "</table>\n",
       "</div>"
      ],
      "text/plain": [
       "                       text      label  count\n",
       "1218                    USA  placeName    120\n",
       "632                     IRA    orgName     35\n",
       "1276      Wielkiej Brytanii  placeName     32\n",
       "424                     ETF    orgName     27\n",
       "158                  Amazon   persName     17\n",
       "1121  Stanach Zjednoczonych  placeName     15\n",
       "191                   Apple    orgName     15\n",
       "172              Amerykanów  placeName     14\n",
       "1046                    S&P    orgName     14\n",
       "1345          amerykańskich  placeName     14\n",
       "634                     IRS    orgName     13\n",
       "639                 Indiach  placeName     12\n",
       "1274            Whole Foods    orgName     11\n",
       "1040               Roth IRA    orgName     11\n",
       "565                  Google    orgName     10\n",
       "1211                     UE    orgName     10\n",
       "780                     MBA    orgName     10\n",
       "1124      Stany Zjednoczone  placeName     10\n",
       "1347         amerykańskiego  placeName      9\n",
       "714                Kanadzie  placeName      9\n",
       "1055                    SEC    orgName      9\n",
       "169                 Ameryka  placeName      9\n",
       "3                         &    orgName      9\n",
       "313                     CPA    orgName      9\n",
       "1346           amerykańskie  placeName      9\n",
       "584                     HSA    orgName      8\n",
       "536                      GM    orgName      7\n",
       "1344            amerykański  placeName      7\n",
       "815               Microsoft    orgName      7\n",
       "1402                 gdybyś   persName      7\n",
       "912                      OP   persName      7\n",
       "455                 Europie   geogName      7\n",
       "170              Amerykanie  placeName      7\n",
       "16                      10.       date      7\n",
       "1036                   Roth    orgName      7\n",
       "20                     1099       date      7\n",
       "877                 Netflix   persName      7\n",
       "64                  2008 r.       date      6\n",
       "340                   Chiny    orgName      6\n",
       "84                  2015 r.       date      6\n",
       "82                  2014 r.       date      6\n",
       "86                     2016       date      6\n",
       "65                2008 roku       date      6\n",
       "115                     ACA    orgName      6\n",
       "712                  Kanady  placeName      6\n",
       "291                Buffetta   persName      6\n",
       "1253                Walmart   persName      6\n",
       "889               Niemczech  placeName      6\n",
       "629                     IMO    orgName      5\n",
       "665                  Izrael  placeName      5"
      ]
     },
     "execution_count": 48,
     "metadata": {},
     "output_type": "execute_result"
    }
   ],
   "source": [
    "entity_counts = df_ner.groupby([\"text\", \"label\"]).size().reset_index(name=\"count\")\n",
    "top_50_entities = entity_counts.sort_values(by=\"count\", ascending=False).head(50)\n",
    "top_50_entities"
   ]
  },
  {
   "cell_type": "markdown",
   "metadata": {},
   "source": [
    "##### Display 5 sentences containing at least 2 recognized named entities with different types. Highlight the recognized spans with color."
   ]
  },
  {
   "cell_type": "code",
   "execution_count": null,
   "metadata": {},
   "outputs": [
    {
     "data": {
      "text/html": [
       "<span class=\"tex2jax_ignore\"><div class=\"entities\" style=\"line-height: 2.5; direction: ltr\">Weźmy na przykład \n",
       "<mark class=\"entity\" style=\"background: #ddd; padding: 0.45em 0.6em; margin: 0 0.25em; line-height: 1; border-radius: 0.35em;\">\n",
       "    CDN\n",
       "    <span style=\"font-size: 0.8em; font-weight: bold; line-height: 1; border-radius: 0.35em; vertical-align: middle; margin-left: 0.5rem\">orgName</span>\n",
       "</mark>\n",
       " używany do tej samej usługi, czy płaciłbyś podatki w 300 różnych krajach, jeśli korzystasz z \n",
       "<mark class=\"entity\" style=\"background: #ddd; padding: 0.45em 0.6em; margin: 0 0.25em; line-height: 1; border-radius: 0.35em;\">\n",
       "    Akamai\n",
       "    <span style=\"font-size: 0.8em; font-weight: bold; line-height: 1; border-radius: 0.35em; vertical-align: middle; margin-left: 0.5rem\">persName</span>\n",
       "</mark>\n",
       "? </div></span>"
      ],
      "text/plain": [
       "<IPython.core.display.HTML object>"
      ]
     },
     "metadata": {},
     "output_type": "display_data"
    },
    {
     "data": {
      "text/html": [
       "<span class=\"tex2jax_ignore\"><div class=\"entities\" style=\"line-height: 2.5; direction: ltr\">„Chodzi mi o to, że jest to chaotyczne, czy sugerujesz, że upadek finansowy \n",
       "<mark class=\"entity\" style=\"background: #ddd; padding: 0.45em 0.6em; margin: 0 0.25em; line-height: 1; border-radius: 0.35em;\">\n",
       "    Hoovera\n",
       "    <span style=\"font-size: 0.8em; font-weight: bold; line-height: 1; border-radius: 0.35em; vertical-align: middle; margin-left: 0.5rem\">persName</span>\n",
       "</mark>\n",
       " i \n",
       "<mark class=\"entity\" style=\"background: #ddd; padding: 0.45em 0.6em; margin: 0 0.25em; line-height: 1; border-radius: 0.35em;\">\n",
       "    Coolidge'a\n",
       "    <span style=\"font-size: 0.8em; font-weight: bold; line-height: 1; border-radius: 0.35em; vertical-align: middle; margin-left: 0.5rem\">persName</span>\n",
       "</mark>\n",
       " był wynikiem programów rządowych uprawnień i że \n",
       "<mark class=\"entity\" style=\"background: #ddd; padding: 0.45em 0.6em; margin: 0 0.25em; line-height: 1; border-radius: 0.35em;\">\n",
       "    New Deal\n",
       "    <span style=\"font-size: 0.8em; font-weight: bold; line-height: 1; border-radius: 0.35em; vertical-align: middle; margin-left: 0.5rem\">placeName</span>\n",
       "</mark>\n",
       " był czymś innym? </div></span>"
      ],
      "text/plain": [
       "<IPython.core.display.HTML object>"
      ]
     },
     "metadata": {},
     "output_type": "display_data"
    },
    {
     "data": {
      "text/html": [
       "<span class=\"tex2jax_ignore\"><div class=\"entities\" style=\"line-height: 2.5; direction: ltr\">\n",
       "<mark class=\"entity\" style=\"background: #ddd; padding: 0.45em 0.6em; margin: 0 0.25em; line-height: 1; border-radius: 0.35em;\">\n",
       "    New Deal\n",
       "    <span style=\"font-size: 0.8em; font-weight: bold; line-height: 1; border-radius: 0.35em; vertical-align: middle; margin-left: 0.5rem\">placeName</span>\n",
       "</mark>\n",
       " i Doktryna \n",
       "<mark class=\"entity\" style=\"background: #ddd; padding: 0.45em 0.6em; margin: 0 0.25em; line-height: 1; border-radius: 0.35em;\">\n",
       "    Trumana\n",
       "    <span style=\"font-size: 0.8em; font-weight: bold; line-height: 1; border-radius: 0.35em; vertical-align: middle; margin-left: 0.5rem\">persName</span>\n",
       "</mark>\n",
       " rozszerzyły uprawnienia i zapewniły dostęp do edukacji, umiejętności handlowych, kopania pracy i wypełniania dziur, infrastruktury i technologii finansowanych ze środków publicznych. </div></span>"
      ],
      "text/plain": [
       "<IPython.core.display.HTML object>"
      ]
     },
     "metadata": {},
     "output_type": "display_data"
    },
    {
     "data": {
      "text/html": [
       "<span class=\"tex2jax_ignore\"><div class=\"entities\" style=\"line-height: 2.5; direction: ltr\">\n",
       "<mark class=\"entity\" style=\"background: #bfe1d9; padding: 0.45em 0.6em; margin: 0 0.25em; line-height: 1; border-radius: 0.35em;\">\n",
       "    1 sierpnia\n",
       "    <span style=\"font-size: 0.8em; font-weight: bold; line-height: 1; border-radius: 0.35em; vertical-align: middle; margin-left: 0.5rem\">date</span>\n",
       "</mark>\n",
       " Burger King Worldwide Inc. odnotował trzeci z rzędu kwartał wzrostu sprzedaży w tym samym sklepie w \n",
       "<mark class=\"entity\" style=\"background: #ddd; padding: 0.45em 0.6em; margin: 0 0.25em; line-height: 1; border-radius: 0.35em;\">\n",
       "    Stanach Zjednoczonych\n",
       "    <span style=\"font-size: 0.8em; font-weight: bold; line-height: 1; border-radius: 0.35em; vertical-align: middle; margin-left: 0.5rem\">placeName</span>\n",
       "</mark>\n",
       " i \n",
       "<mark class=\"entity\" style=\"background: #ddd; padding: 0.45em 0.6em; margin: 0 0.25em; line-height: 1; border-radius: 0.35em;\">\n",
       "    Kanadzie\n",
       "    <span style=\"font-size: 0.8em; font-weight: bold; line-height: 1; border-radius: 0.35em; vertical-align: middle; margin-left: 0.5rem\">placeName</span>\n",
       "</mark>\n",
       ". </div></span>"
      ],
      "text/plain": [
       "<IPython.core.display.HTML object>"
      ]
     },
     "metadata": {},
     "output_type": "display_data"
    },
    {
     "data": {
      "text/html": [
       "<span class=\"tex2jax_ignore\"><div class=\"entities\" style=\"line-height: 2.5; direction: ltr\">A \n",
       "<mark class=\"entity\" style=\"background: #bfe1d9; padding: 0.45em 0.6em; margin: 0 0.25em; line-height: 1; border-radius: 0.35em;\">\n",
       "    7 sierpnia\n",
       "    <span style=\"font-size: 0.8em; font-weight: bold; line-height: 1; border-radius: 0.35em; vertical-align: middle; margin-left: 0.5rem\">date</span>\n",
       "</mark>\n",
       " firma \n",
       "<mark class=\"entity\" style=\"background: #ddd; padding: 0.45em 0.6em; margin: 0 0.25em; line-height: 1; border-radius: 0.35em;\">\n",
       "    Wendy’s\n",
       "    <span style=\"font-size: 0.8em; font-weight: bold; line-height: 1; border-radius: 0.35em; vertical-align: middle; margin-left: 0.5rem\">orgName</span>\n",
       "</mark>\n",
       " poinformowała, że ​​jej kwartalna sprzedaż w tym samym sklepie wzrosła o ponad 3 procent. </div></span>"
      ],
      "text/plain": [
       "<IPython.core.display.HTML object>"
      ]
     },
     "metadata": {},
     "output_type": "display_data"
    }
   ],
   "source": [
    "sentences = nlp(fulltext)\n",
    "selected_sentences = []\n",
    "for sent in sentences.sents:\n",
    "    ents = {ent.label_ for ent in sent.ents}\n",
    "    if len(ents) >= 2:\n",
    "        selected_sentences.append(sent)\n",
    "\n",
    "# 5 sentences\n",
    "for sentence in selected_sentences[:5]:\n",
    "    displacy.render(sentence, style=\"ent\", jupyter=True)"
   ]
  },
  {
   "cell_type": "code",
   "execution_count": null,
   "metadata": {},
   "outputs": [],
   "source": []
  }
 ],
 "metadata": {
  "kernelspec": {
   "display_name": "nlp",
   "language": "python",
   "name": "python3"
  },
  "language_info": {
   "codemirror_mode": {
    "name": "ipython",
    "version": 3
   },
   "file_extension": ".py",
   "mimetype": "text/x-python",
   "name": "python",
   "nbconvert_exporter": "python",
   "pygments_lexer": "ipython3",
   "version": "3.11.10"
  }
 },
 "nbformat": 4,
 "nbformat_minor": 2
}
