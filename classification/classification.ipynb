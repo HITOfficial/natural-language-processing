{
 "cells": [
  {
   "cell_type": "code",
   "execution_count": 50,
   "metadata": {},
   "outputs": [],
   "source": [
    "from datasets import load_dataset, Dataset\n",
    "import numpy as np\n",
    "from p_tqdm import p_map\n",
    "\n",
    "from transformers import GPT2Tokenizer, GPT2LMHeadModel, AutoTokenizer, AutoModelForSequenceClassification\n",
    "from sentence_transformers import SentenceTransformer\n",
    "from sklearn.metrics.pairwise import cosine_similarity\n",
    "\n",
    "from transformers import BertForSequenceClassification, Trainer, TrainingArguments\n",
    "from sklearn.metrics import balanced_accuracy_score, precision_recall_fscore_support, confusion_matrix, ConfusionMatrixDisplay\n",
    "\n",
    "import matplotlib.pyplot as plt\n",
    "from torch.utils.data import DataLoader\n"
   ]
  },
  {
   "cell_type": "markdown",
   "metadata": {},
   "source": [
    "#### Use the FIQA-PL dataset that was used in lab 1 and lab lab 2 (so we need the passages, the questions and their relations).\n",
    "\n",
    "Got confiused with FIQA-PL, because indeed it doesn't provide relations between questions and corpus\n",
    "instead used truthful_qa (small english dataset with questions with multiple possible answers)"
   ]
  },
  {
   "cell_type": "code",
   "execution_count": 51,
   "metadata": {},
   "outputs": [
    {
     "data": {
      "text/plain": [
       "DatasetDict({\n",
       "    validation: Dataset({\n",
       "        features: ['type', 'category', 'question', 'best_answer', 'correct_answers', 'incorrect_answers', 'source'],\n",
       "        num_rows: 817\n",
       "    })\n",
       "})"
      ]
     },
     "execution_count": 51,
     "metadata": {},
     "output_type": "execute_result"
    }
   ],
   "source": [
    "ds = load_dataset(\"truthfulqa/truthful_qa\", \"generation\")\n",
    "ds"
   ]
  },
  {
   "cell_type": "markdown",
   "metadata": {},
   "source": [
    "#### Create a dataset of positive and negative sentence pairs.\n",
    "\n",
    "- In each pair the first element is a question and the second element is a passagei, i.e. \"{question} {separator} {passage}\", where separator should be a separator taken from the model's tokenizer.\n",
    "- Use the relations to mark the positive pairs (i.e. pairs where the question is answered by the passage).\n",
    "- Use your own strategy to mark negative pairs (i.e. you can draw the negative examples, but there are better strategies to define the negative examples). The number of negative examples should be larger than the number of positive examples."
   ]
  },
  {
   "cell_type": "code",
   "execution_count": 52,
   "metadata": {},
   "outputs": [],
   "source": [
    "positive_pairs, negative_pairs = [], []"
   ]
  },
  {
   "cell_type": "code",
   "execution_count": 53,
   "metadata": {},
   "outputs": [],
   "source": [
    "tokenizer = GPT2Tokenizer.from_pretrained('gpt2')\n",
    "model = GPT2LMHeadModel.from_pretrained('gpt2')"
   ]
  },
  {
   "cell_type": "code",
   "execution_count": 54,
   "metadata": {},
   "outputs": [
    {
     "data": {
      "text/plain": [
       "'[SEP]'"
      ]
     },
     "execution_count": 54,
     "metadata": {},
     "output_type": "execute_result"
    }
   ],
   "source": [
    "separator = tokenizer.sep_token or \"[SEP]\"\n",
    "separator"
   ]
  },
  {
   "cell_type": "code",
   "execution_count": 55,
   "metadata": {},
   "outputs": [],
   "source": [
    "def generate_pairs(question, answers):\n",
    "    pairs = []\n",
    "    for answer in answers:\n",
    "        pairs.append(question + ' ' + separator + ' ' + answer)\n",
    "    return pairs\n",
    "\n",
    "positive_pairs = [generate_pairs(q, a) for q, a in zip(ds['validation']['question'], ds['validation']['correct_answers'])]\n",
    "# positive_pairs = p_map(generate_pairs, ds['validation']['question'], ds['validation']['correct_answers']) # p_map is not working"
   ]
  },
  {
   "cell_type": "code",
   "execution_count": 56,
   "metadata": {},
   "outputs": [],
   "source": [
    "\n",
    "\n",
    "#  72 mln downloads last month Sentence Transformer\n",
    "model = SentenceTransformer('all-MiniLM-L6-v2')\n",
    "\n",
    "\n",
    "def get_top_n_similar_answers(correct_answers, incorrect_answers, candidate_incorrect_answers, top_n=None):\n",
    "\n",
    "    reference_vectors = model.encode(incorrect_answers)\n",
    "    candidate_vectors = model.encode(candidate_incorrect_answers)\n",
    "    \n",
    "    combined_reference_vector = np.mean(reference_vectors, axis=0)\n",
    "    \n",
    "    # cosine similarities between the combined reference vector and all candidate answers\n",
    "    cos_similarities = cosine_similarity([combined_reference_vector], candidate_vectors).flatten()\n",
    "    \n",
    "    # omit correct answers from candidates\n",
    "    filtered_indices = [\n",
    "        idx for idx, candidate in enumerate(candidate_incorrect_answers) \n",
    "        if candidate not in correct_answers\n",
    "    ]\n",
    "\n",
    "    \n",
    "    filtered_similarities = cos_similarities[filtered_indices]\n",
    "    sorted_indices = np.argsort(filtered_similarities)[::-1][:top_n]\n",
    "    \n",
    "    top_n_candidates = [candidate_incorrect_answers[filtered_indices[idx]] for idx in sorted_indices]\n",
    "\n",
    "    return top_n_candidates\n",
    "\n",
    "\n",
    "\n",
    "def generate_incorrect_answers(index):\n",
    "    correct_answers = ds['validation']['correct_answers']\n",
    "    incorrect_answers = ds['validation']['incorrect_answers']\n",
    "    candidate_incorrect_answers = [\n",
    "        incorrect for idx, incorrect in enumerate(incorrect_answers) if idx != index\n",
    "    ]\n",
    "    top_n = 3\n",
    "    # flaten the list of candidate incorrect answers\n",
    "    candidate_incorrect_answers = [item for sublist in candidate_incorrect_answers for item in sublist]\n",
    "    # Get top N most similar incorrect answers\n",
    "    similar_incorrect_answers = get_top_n_similar_answers(\n",
    "        correct_answers[index],\n",
    "        incorrect_answers[index],\n",
    "        candidate_incorrect_answers,\n",
    "        top_n\n",
    "    )\n",
    "    return similar_incorrect_answers + incorrect_answers[index]\n",
    "\n",
    "\n",
    "ds_len = len(ds['validation']['correct_answers'])\n",
    "\n",
    "# new_incorrect_answers = p_map(\n",
    "#     generate_incorrect_answers,\n",
    "#     range(ds_len)\n",
    "# )\n",
    "\n",
    "# p_map stopped working\n",
    "\n",
    "new_incorrect_answers = [\n",
    "    generate_incorrect_answers(i) for i in range(ds_len)\n",
    "]"
   ]
  },
  {
   "cell_type": "code",
   "execution_count": 57,
   "metadata": {},
   "outputs": [],
   "source": [
    "negative_pairs = [generate_pairs(q, a) for q, a in zip(ds['validation']['question'], new_incorrect_answers)]"
   ]
  },
  {
   "cell_type": "code",
   "execution_count": 58,
   "metadata": {},
   "outputs": [],
   "source": [
    "flatten_negative_pairs = [item for sublist in negative_pairs for item in sublist]\n",
    "flatten_positive_pairs = [item for sublist in positive_pairs for item in sublist]"
   ]
  },
  {
   "cell_type": "code",
   "execution_count": 59,
   "metadata": {},
   "outputs": [
    {
     "name": "stdout",
     "output_type": "stream",
     "text": [
      "positive answers 2600 and negative answers 5769\n"
     ]
    }
   ],
   "source": [
    "print(f'positive answers {len(flatten_positive_pairs)} and negative answers {len(flatten_negative_pairs)}')"
   ]
  },
  {
   "cell_type": "markdown",
   "metadata": {},
   "source": [
    "Added three incorrect answers to each questions derived from the incorrect answers of other questions, utilizing cosine similarity to ensure relevance"
   ]
  },
  {
   "cell_type": "markdown",
   "metadata": {},
   "source": [
    "#### The dataset from point 2 should be split into training, evaluation and testing subsets."
   ]
  },
  {
   "cell_type": "code",
   "execution_count": 60,
   "metadata": {},
   "outputs": [],
   "source": [
    "all_pairs = flatten_positive_pairs + flatten_negative_pairs\n",
    "\n",
    "# labels: 1 for positive pairs, 0 for negative pairs\n",
    "labels = [1] * len(flatten_positive_pairs) + [0] * len(flatten_negative_pairs)\n",
    "\n",
    "# Shuffle\n",
    "indices = np.random.permutation(len(all_pairs))\n",
    "all_pairs = [all_pairs[i] for i in indices]\n",
    "labels = [labels[i] for i in indices]\n",
    "\n",
    "#  split 70% train, 15% eval, 15% test\n",
    "total_size = len(all_pairs)\n",
    "train_size = int(0.7 * total_size)\n",
    "eval_size = int(0.15 * total_size)\n",
    "test_size = total_size - train_size - eval_size\n",
    "\n",
    "# Dataset: text, label\n",
    "data = {'text': all_pairs, 'label': labels}\n",
    "dataset = Dataset.from_dict(data)\n",
    "\n",
    "train_dataset = dataset.select(range(train_size))\n",
    "eval_dataset = dataset.select(range(train_size, train_size + eval_size))\n",
    "test_dataset = dataset.select(range(train_size + eval_size, total_size))\n"
   ]
  },
  {
   "cell_type": "markdown",
   "metadata": {},
   "source": [
    "#### Train a text classifier using the Transformers library\n",
    "distinguishes between the positive and the negative pairs. To make the process manageable use models of size base and a runtime providing GPU/TPU acceleration. Consult the discussions related to fine-tuning Transformer models to select sensible set of parameters. You can also run several trainings with different hyper-parameters, if you have access to large computing resources."
   ]
  },
  {
   "cell_type": "code",
   "execution_count": 61,
   "metadata": {},
   "outputs": [
    {
     "name": "stderr",
     "output_type": "stream",
     "text": [
      "Some weights of BertForSequenceClassification were not initialized from the model checkpoint at bert-base-uncased and are newly initialized: ['classifier.bias', 'classifier.weight']\n",
      "You should probably TRAIN this model on a down-stream task to be able to use it for predictions and inference.\n"
     ]
    }
   ],
   "source": [
    "# model with 60 mln downloads last month\n",
    "model_name = \"bert-base-uncased\"  \n",
    "tokenizer = AutoTokenizer.from_pretrained(model_name)\n",
    "model = AutoModelForSequenceClassification.from_pretrained(model_name, num_labels=2)"
   ]
  },
  {
   "cell_type": "code",
   "execution_count": 62,
   "metadata": {},
   "outputs": [
    {
     "name": "stderr",
     "output_type": "stream",
     "text": [
      "Map: 100%|██████████| 5858/5858 [00:00<00:00, 11272.19 examples/s]\n",
      "Map: 100%|██████████| 1255/1255 [00:00<00:00, 19751.86 examples/s]\n",
      "Map: 100%|██████████| 1256/1256 [00:00<00:00, 21451.71 examples/s]\n"
     ]
    }
   ],
   "source": [
    "def tokenize_function(examples):\n",
    "    return tokenizer(examples[\"text\"], padding=\"max_length\", truncation=True, max_length=128)\n",
    "\n",
    "# Apply the tokenizer to the datasets\n",
    "train_tokenized = train_dataset.map(tokenize_function, batched=True)\n",
    "eval_tokenized = eval_dataset.map(tokenize_function, batched=True)\n",
    "test_tokenized = test_dataset.map(tokenize_function, batched=True)\n"
   ]
  },
  {
   "cell_type": "code",
   "execution_count": 63,
   "metadata": {},
   "outputs": [],
   "source": [
    "def compute_metrics(pred):\n",
    "    labels = pred.label_ids\n",
    "    preds = np.argmax(pred.predictions, axis=1)\n",
    "    precision, recall, f1, _ = precision_recall_fscore_support(labels, preds, average=\"binary\")\n",
    "    balanced_accuracy = balanced_accuracy_score(labels, preds)\n",
    "    return {\n",
    "        \"balanced_accuracy\": balanced_accuracy,\n",
    "        \"f1\": f1,\n",
    "        \"precision\": precision,\n",
    "        \"recall\": recall\n",
    "    }\n"
   ]
  },
  {
   "cell_type": "code",
   "execution_count": 64,
   "metadata": {},
   "outputs": [],
   "source": [
    "train_dataloader = DataLoader(train_tokenized, batch_size=16, shuffle=True)\n",
    "eval_dataloader = DataLoader(eval_tokenized, batch_size=16)\n",
    "test_dataloader = DataLoader(test_tokenized, batch_size=16)"
   ]
  },
  {
   "cell_type": "code",
   "execution_count": 65,
   "metadata": {},
   "outputs": [
    {
     "name": "stderr",
     "output_type": "stream",
     "text": [
      "Some weights of BertForSequenceClassification were not initialized from the model checkpoint at bert-base-uncased and are newly initialized: ['classifier.bias', 'classifier.weight']\n",
      "You should probably TRAIN this model on a down-stream task to be able to use it for predictions and inference.\n",
      "/Users/bochnak/anaconda3/envs/nlp/lib/python3.11/site-packages/transformers/training_args.py:1568: FutureWarning: `evaluation_strategy` is deprecated and will be removed in version 4.46 of 🤗 Transformers. Use `eval_strategy` instead\n",
      "  warnings.warn(\n",
      " 33%|███▎      | 367/1101 [02:38<04:43,  2.59it/s]\n",
      " 33%|███▎      | 367/1101 [02:47<04:43,  2.59it/s]"
     ]
    },
    {
     "name": "stdout",
     "output_type": "stream",
     "text": [
      "{'eval_loss': 0.36286601424217224, 'eval_balanced_accuracy': 0.8037814018520217, 'eval_f1': 0.7450462351387054, 'eval_precision': 0.8269794721407625, 'eval_recall': 0.6778846153846154, 'eval_runtime': 9.7448, 'eval_samples_per_second': 128.787, 'eval_steps_per_second': 8.107, 'epoch': 1.0}\n"
     ]
    },
    {
     "name": "stderr",
     "output_type": "stream",
     "text": [
      " 45%|████▌     | 500/1101 [03:51<04:25,  2.27it/s]"
     ]
    },
    {
     "name": "stdout",
     "output_type": "stream",
     "text": [
      "{'loss': 0.438, 'grad_norm': 7.094197750091553, 'learning_rate': 1.0917347865576748e-05, 'epoch': 1.36}\n"
     ]
    },
    {
     "name": "stderr",
     "output_type": "stream",
     "text": [
      " 67%|██████▋   | 734/1101 [05:35<02:15,  2.71it/s]\n",
      " 67%|██████▋   | 734/1101 [05:45<02:15,  2.71it/s]"
     ]
    },
    {
     "name": "stdout",
     "output_type": "stream",
     "text": [
      "{'eval_loss': 0.3241387605667114, 'eval_balanced_accuracy': 0.8368593563766389, 'eval_f1': 0.7878787878787878, 'eval_precision': 0.8297872340425532, 'eval_recall': 0.75, 'eval_runtime': 9.9308, 'eval_samples_per_second': 126.375, 'eval_steps_per_second': 7.955, 'epoch': 2.0}\n"
     ]
    },
    {
     "name": "stderr",
     "output_type": "stream",
     "text": [
      " 91%|█████████ | 1000/1101 [07:42<00:41,  2.40it/s]"
     ]
    },
    {
     "name": "stdout",
     "output_type": "stream",
     "text": [
      "{'loss': 0.2235, 'grad_norm': 1.9304497241973877, 'learning_rate': 1.8346957311534968e-06, 'epoch': 2.72}\n"
     ]
    },
    {
     "name": "stderr",
     "output_type": "stream",
     "text": [
      "100%|██████████| 1101/1101 [08:24<00:00,  3.02it/s]\n",
      "100%|██████████| 1101/1101 [08:35<00:00,  3.02it/s]"
     ]
    },
    {
     "name": "stdout",
     "output_type": "stream",
     "text": [
      "{'eval_loss': 0.338667094707489, 'eval_balanced_accuracy': 0.8470506326212524, 'eval_f1': 0.8020176544766708, 'eval_precision': 0.843501326259947, 'eval_recall': 0.7644230769230769, 'eval_runtime': 9.4084, 'eval_samples_per_second': 133.392, 'eval_steps_per_second': 8.397, 'epoch': 3.0}\n"
     ]
    },
    {
     "name": "stderr",
     "output_type": "stream",
     "text": [
      "100%|██████████| 1101/1101 [08:37<00:00,  2.13it/s]"
     ]
    },
    {
     "name": "stdout",
     "output_type": "stream",
     "text": [
      "{'train_runtime': 517.7624, 'train_samples_per_second': 33.942, 'train_steps_per_second': 2.126, 'train_loss': 0.31654600962847607, 'epoch': 3.0}\n"
     ]
    },
    {
     "name": "stderr",
     "output_type": "stream",
     "text": [
      "\n"
     ]
    },
    {
     "data": {
      "text/plain": [
       "TrainOutput(global_step=1101, training_loss=0.31654600962847607, metrics={'train_runtime': 517.7624, 'train_samples_per_second': 33.942, 'train_steps_per_second': 2.126, 'total_flos': 1155978421724160.0, 'train_loss': 0.31654600962847607, 'epoch': 3.0})"
      ]
     },
     "execution_count": 65,
     "metadata": {},
     "output_type": "execute_result"
    }
   ],
   "source": [
    "\n",
    "# 60 mln downloads last month model\n",
    "model = BertForSequenceClassification.from_pretrained('bert-base-uncased', num_labels=2)\n",
    "\n",
    "# Define training arguments\n",
    "training_args = TrainingArguments(\n",
    "    output_dir='./results',\n",
    "    evaluation_strategy='epoch',\n",
    "    save_strategy='epoch',\n",
    "    learning_rate=2e-5,\n",
    "    per_device_train_batch_size=16,\n",
    "    per_device_eval_batch_size=16,\n",
    "    num_train_epochs=3,\n",
    "    weight_decay=0.01,\n",
    "    metric_for_best_model='balanced_accuracy',\n",
    "    load_best_model_at_end=True,\n",
    "    greater_is_better=True,\n",
    ")\n",
    "\n",
    "trainer = Trainer(\n",
    "    model=model,\n",
    "    args=training_args,\n",
    "    train_dataset=train_tokenized,\n",
    "    eval_dataset=eval_tokenized,\n",
    "    compute_metrics=compute_metrics\n",
    "\n",
    ")\n",
    "\n",
    "trainer.train()"
   ]
  },
  {
   "cell_type": "markdown",
   "metadata": {},
   "source": [
    "#### Report the results you have obtained for the model. Use appropriate measures, since the dataset is not balanced."
   ]
  },
  {
   "cell_type": "code",
   "execution_count": 66,
   "metadata": {},
   "outputs": [
    {
     "name": "stderr",
     "output_type": "stream",
     "text": [
      "100%|██████████| 79/79 [00:09<00:00,  8.61it/s]\n"
     ]
    },
    {
     "name": "stdout",
     "output_type": "stream",
     "text": [
      "Test Results: {'eval_loss': 0.29952314496040344, 'eval_balanced_accuracy': 0.86421603223924, 'eval_f1': 0.811554332874828, 'eval_precision': 0.8240223463687151, 'eval_recall': 0.7994579945799458, 'eval_runtime': 9.3531, 'eval_samples_per_second': 134.287, 'eval_steps_per_second': 8.446, 'epoch': 3.0}\n"
     ]
    },
    {
     "name": "stderr",
     "output_type": "stream",
     "text": [
      "100%|██████████| 79/79 [00:09<00:00,  8.62it/s]\n"
     ]
    },
    {
     "name": "stdout",
     "output_type": "stream",
     "text": [
      "Test Metrics:\n",
      "Balanced Accuracy: 0.8642\n",
      "F1 Score: 0.8116\n",
      "Precision: 0.8240\n",
      "Recall: 0.7995\n"
     ]
    },
    {
     "data": {
      "image/png": "[encoded data removed]",
      "text/plain": [
       "<Figure size 640x480 with 2 Axes>"
      ]
     },
     "metadata": {},
     "output_type": "display_data"
    }
   ],
   "source": [
    "test_results = trainer.evaluate(test_tokenized)\n",
    "\n",
    "print(\"Test Results:\", test_results)\n",
    "\n",
    "test_predictions = trainer.predict(test_tokenized)\n",
    "\n",
    "test_metrics = compute_metrics(test_predictions)\n",
    "\n",
    "print(\"Test Metrics:\")\n",
    "print(f\"Balanced Accuracy: {test_metrics['balanced_accuracy']:.4f}\")\n",
    "print(f\"F1 Score: {test_metrics['f1']:.4f}\")\n",
    "print(f\"Precision: {test_metrics['precision']:.4f}\")\n",
    "print(f\"Recall: {test_metrics['recall']:.4f}\")\n",
    "\n",
    "true_labels = test_predictions.label_ids\n",
    "predicted_labels = np.argmax(test_predictions.predictions, axis=1)\n",
    "\n",
    "cm = confusion_matrix(true_labels, predicted_labels)\n",
    "\n",
    "disp = ConfusionMatrixDisplay(confusion_matrix=cm)\n",
    "disp.plot(cmap=plt.cm.Blues)\n",
    "plt.title(\"Confusion Matrix\")\n",
    "plt.show()\n"
   ]
  },
  {
   "cell_type": "markdown",
   "metadata": {},
   "source": [
    "Trained Model score for balanced accuracy is 0.87 which is quite good result, especially for not the easiest dataset with more than twice as many wrong answers (2600 positive labels vs 5679 negative labels)"
   ]
  },
  {
   "cell_type": "markdown",
   "metadata": {},
   "source": [
    "#### Use the classifier as a re-ranker for finding the answers to the questions.\n",
    "Since the re-ranker is slow, you have to limit the subset of possible passages to top-n (10, 50 or 100 - depending on your GPU) texts returned by much faster model, e.g. FTS."
   ]
  },
  {
   "cell_type": "code",
   "execution_count": 67,
   "metadata": {},
   "outputs": [],
   "source": [
    "# TODO"
   ]
  },
  {
   "cell_type": "markdown",
   "metadata": {},
   "source": [
    "#### Compute how much the result of searching the passages improved over the results from lab 2. Use NDCG to compare the results.\n",
    "\n",
    "Used different model so gonna just calculate NDCG of this model"
   ]
  },
  {
   "cell_type": "code",
   "execution_count": 68,
   "metadata": {},
   "outputs": [],
   "source": [
    "def dcg_at_k(scores, k):\n",
    "    scores = scores[:k]\n",
    "    return sum(score / np.log2(idx + 2) for idx, score in enumerate(scores))\n",
    "\n",
    "# nDCG@k\n",
    "def ndcg_at_k(relevance_scores, k=10):\n",
    "    ideal_scores = sorted(relevance_scores, reverse=True)\n",
    "    dcg = dcg_at_k(relevance_scores, k)\n",
    "    idcg = dcg_at_k(ideal_scores, k)\n",
    "    return dcg / idcg if idcg > 0 else 0\n",
    "\n",
    "# TODO"
   ]
  },
  {
   "cell_type": "markdown",
   "metadata": {},
   "source": [
    "#### Question 1: Do you think simpler methods, like Bayesian bag-of-words model, would work for sentence-pair classification? Justify your answer.\n",
    "\n",
    "Simpler methods like a Bayesian bag-of-words model can be effective, they often fail to capture the contextual relationships. In my approach, I used cosine similarity with the Sentence Transformer model (`all-MiniLM-L6-v2`), which encodes sentences into dense vectors, allowing for effective semantic comparison. This model's popularity (72 million downloads last month) highlights its effectiveness in understanding context, making it superior for this task.\n",
    "\n",
    "---\n",
    "\n",
    "#### Question 2: What hyper-parameters did you select for training? What resources did you consult?\n",
    "\n",
    "I selected the following hyper-parameters for training:\n",
    "- Learning Rate: 2e-5\n",
    "- Batch Size: 16\n",
    "- Number of Epochs: 3\n",
    "- Weight Decay: 0.01\n",
    "- Evaluation Strategy: Evaluate at the end of each epoch\n",
    "- Load best model at the end\n",
    "\n",
    "These were chosen based on insights from Hugging Face documentation.\n",
    "\n",
    "---\n",
    "\n",
    "#### Question 3: What are the pros and cons of neural network models in NLP?\n",
    "\n",
    "**Pros:**\n",
    "1. Contextual Understanding: Neural networks capture contextual relationships, improving performance in tasks like sentence-pair classification.\n",
    "2. Transfer Learning: Pre-trained models can be fine-tuned on specific tasks, leveraging knowledge from large datasets.\n",
    "\n",
    "**Cons:**\n",
    "1. Resource Intensive: Large models require significant computational resources, which can be a barrier for smaller projects.\n",
    "2. Overfitting Risk: The complexity of neural networks can lead to overfitting, necessitating careful regularization and validation.\n"
   ]
  }
 ],
 "metadata": {
  "kernelspec": {
   "display_name": "nlp",
   "language": "python",
   "name": "python3"
  },
  "language_info": {
   "codemirror_mode": {
    "name": "ipython",
    "version": 3
   },
   "file_extension": ".py",
   "mimetype": "text/x-python",
   "name": "python",
   "nbconvert_exporter": "python",
   "pygments_lexer": "ipython3",
   "version": "3.11.10"
  }
 },
 "nbformat": 4,
 "nbformat_minor": 2
}
